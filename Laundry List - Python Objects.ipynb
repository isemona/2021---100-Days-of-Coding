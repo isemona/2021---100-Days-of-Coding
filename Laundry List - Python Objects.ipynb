{
 "cells": [
  {
   "cell_type": "code",
   "execution_count": 80,
   "metadata": {},
   "outputs": [],
   "source": [
    "class Laundry:\n",
    "    def __init__(self, name, items):\n",
    "        self.name = name\n",
    "        self.items = items\n",
    "        \n",
    "    def remove_item(self,item):\n",
    "        if item in items:\n",
    "            items.remove(item)\n",
    "            \n",
    "    def add_item(self,item):\n",
    "        if item not in self.items:\n",
    "            items.append(item)\n",
    "    \n",
    "    def get_items(self):\n",
    "        for item in self.items:\n",
    "            return self.items\n",
    "        \n",
    "items = []\n",
    "client = Laundry(\"Someone\",items)\n",
    "client.add_item(\"shorts\")\n",
    "#dir(Audi)"
   ]
  },
  {
   "cell_type": "code",
   "execution_count": 91,
   "metadata": {},
   "outputs": [
    {
     "name": "stdout",
     "output_type": "stream",
     "text": [
      "None\n",
      "None\n"
     ]
    }
   ],
   "source": [
    "print(client.add_item(\"pants\"))\n",
    "print(client.add_item(\"shorts\"))"
   ]
  },
  {
   "cell_type": "code",
   "execution_count": 92,
   "metadata": {},
   "outputs": [
    {
     "name": "stdout",
     "output_type": "stream",
     "text": [
      "['pants', 'shorts']\n"
     ]
    }
   ],
   "source": [
    "print(client.add_item(\"pants\"))"
   ]
  },
  {
   "cell_type": "code",
   "execution_count": 93,
   "metadata": {},
   "outputs": [],
   "source": [
    "client.remove_item(\"shorts\")"
   ]
  },
  {
   "cell_type": "code",
   "execution_count": 94,
   "metadata": {},
   "outputs": [
    {
     "data": {
      "text/plain": [
       "'Someone'"
      ]
     },
     "execution_count": 94,
     "metadata": {},
     "output_type": "execute_result"
    }
   ],
   "source": [
    "client.name"
   ]
  },
  {
   "cell_type": "code",
   "execution_count": 97,
   "metadata": {},
   "outputs": [
    {
     "name": "stdout",
     "output_type": "stream",
     "text": [
      "['pants']\n"
     ]
    }
   ],
   "source": [
    "print(client.get_items())"
   ]
  },
  {
   "cell_type": "code",
   "execution_count": null,
   "metadata": {},
   "outputs": [],
   "source": []
  }
 ],
 "metadata": {
  "kernelspec": {
   "display_name": "Python 3",
   "language": "python",
   "name": "python3"
  },
  "language_info": {
   "codemirror_mode": {
    "name": "ipython",
    "version": 3
   },
   "file_extension": ".py",
   "mimetype": "text/x-python",
   "name": "python",
   "nbconvert_exporter": "python",
   "pygments_lexer": "ipython3",
   "version": "3.7.1"
  }
 },
 "nbformat": 4,
 "nbformat_minor": 2
}
