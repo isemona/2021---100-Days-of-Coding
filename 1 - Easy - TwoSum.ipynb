{
 "cells": [
  {
   "cell_type": "markdown",
   "metadata": {},
   "source": [
    "Brute Force"
   ]
  },
  {
   "cell_type": "code",
   "execution_count": 16,
   "metadata": {},
   "outputs": [],
   "source": [
    "def twoSum(nums, target):\n",
    "    for x in range(len(nums)):\n",
    "        for y in range(len(nums)):\n",
    "            if nums[x] + nums[y] == target:\n",
    "                return [x,y]\n",
    "    return none\n",
    "\n",
    "nums = [2,7,11,15]\n",
    "target = 9"
   ]
  },
  {
   "cell_type": "code",
   "execution_count": 17,
   "metadata": {},
   "outputs": [
    {
     "data": {
      "text/plain": [
       "[0, 1]"
      ]
     },
     "execution_count": 17,
     "metadata": {},
     "output_type": "execute_result"
    }
   ],
   "source": [
    "twoSum(nums,target)"
   ]
  },
  {
   "cell_type": "markdown",
   "metadata": {},
   "source": [
    "Improvement 1 - target and nums[x] both are in variable i.e. don't change while complement does. In this case we can use subtraction method. "
   ]
  },
  {
   "cell_type": "code",
   "execution_count": 18,
   "metadata": {},
   "outputs": [
    {
     "data": {
      "text/plain": [
       "[0, 1]"
      ]
     },
     "execution_count": 18,
     "metadata": {},
     "output_type": "execute_result"
    }
   ],
   "source": [
    "def twoSum(nums, target):\n",
    "    arrLen = len(nums)\n",
    "    for x in range(arrLen):\n",
    "        complement = target - nums[x]\n",
    "        for y in range(x+1, arrLen):\n",
    "            if nums[y] == complement:\n",
    "                return [x,y]\n",
    "    return none\n",
    "\n",
    "nums = [2,7,11,15]\n",
    "target = 9\n",
    "twoSum(nums,target)"
   ]
  },
  {
   "cell_type": "markdown",
   "metadata": {},
   "source": [
    "Improvement 2 - although beware of collision using hash tables"
   ]
  },
  {
   "cell_type": "code",
   "execution_count": 20,
   "metadata": {},
   "outputs": [
    {
     "data": {
      "text/plain": [
       "[0, 1]"
      ]
     },
     "execution_count": 20,
     "metadata": {},
     "output_type": "execute_result"
    }
   ],
   "source": [
    "def twoSum(nums, target):\n",
    "        hashmap = {}\n",
    "        for i in range(len(nums)):\n",
    "            hashmap[nums[i]] = i\n",
    "        for i in range(len(nums)):\n",
    "            complement = target - nums[i]\n",
    "            if complement in hashmap and hashmap[complement] != i:\n",
    "                return [i, hashmap[complement]] \n",
    "            \n",
    "\n",
    "nums = [2,7,11,15]\n",
    "target = 9\n",
    "twoSum(nums,target)"
   ]
  },
  {
   "cell_type": "code",
   "execution_count": null,
   "metadata": {},
   "outputs": [],
   "source": []
  }
 ],
 "metadata": {
  "kernelspec": {
   "display_name": "Python 3",
   "language": "python",
   "name": "python3"
  },
  "language_info": {
   "codemirror_mode": {
    "name": "ipython",
    "version": 3
   },
   "file_extension": ".py",
   "mimetype": "text/x-python",
   "name": "python",
   "nbconvert_exporter": "python",
   "pygments_lexer": "ipython3",
   "version": "3.7.1"
  }
 },
 "nbformat": 4,
 "nbformat_minor": 2
}
