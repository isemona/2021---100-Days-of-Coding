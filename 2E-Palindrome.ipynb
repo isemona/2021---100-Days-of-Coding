{
 "cells": [
  {
   "cell_type": "markdown",
   "metadata": {},
   "source": [
    "Number to string from scratch"
   ]
  },
  {
   "cell_type": "code",
   "execution_count": 2,
   "metadata": {},
   "outputs": [
    {
     "data": {
      "text/plain": [
       "[3, 3, 4, 5]"
      ]
     },
     "execution_count": 2,
     "metadata": {},
     "output_type": "execute_result"
    }
   ],
   "source": [
    "def num_to_str(num):\n",
    "    num_str = []\n",
    "    digit = 0\n",
    "    base = 1\n",
    "    while num > base:\n",
    "        base *= 10\n",
    "        digit += 1\n",
    "    base = (base/10)\n",
    "    for x in range(digit):\n",
    "        num_str.insert(x, int(num/base))\n",
    "        num -= num_str[x]*base # subtract base afterwards\n",
    "        base = (base/10)\n",
    "    return num_str\n",
    "num = 3345\n",
    "num_to_str(num)"
   ]
  },
  {
   "cell_type": "code",
   "execution_count": null,
   "metadata": {},
   "outputs": [],
   "source": [
    "def is_palindrome(word):\n",
    "    reverse_word = ''\n",
    "    "
   ]
  }
 ],
 "metadata": {
  "kernelspec": {
   "display_name": "Python 3",
   "language": "python",
   "name": "python3"
  },
  "language_info": {
   "codemirror_mode": {
    "name": "ipython",
    "version": 3
   },
   "file_extension": ".py",
   "mimetype": "text/x-python",
   "name": "python",
   "nbconvert_exporter": "python",
   "pygments_lexer": "ipython3",
   "version": "3.7.1"
  }
 },
 "nbformat": 4,
 "nbformat_minor": 2
}
