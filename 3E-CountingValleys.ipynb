{
 "cells": [
  {
   "cell_type": "code",
   "execution_count": null,
   "metadata": {},
   "outputs": [],
   "source": [
    "def countingValleys(steps, path):\n",
    "    # Write your code here\n",
    "    up = 1\n",
    "    down = -1\n",
    "    ins = 0\n",
    "    h = 0\n",
    "    count =0 \n",
    "    for x in path:\n",
    "        if x == 'U':\n",
    "            ins = up\n",
    "        elif x == 'D':\n",
    "            ins = down\n",
    "        else:\n",
    "            ins = 0\n",
    "        h += ins\n",
    "        if (h==0 and ins==1):\n",
    "            count += 1\n",
    "    return count       \n"
   ]
  }
 ],
 "metadata": {
  "kernelspec": {
   "display_name": "Python 3",
   "language": "python",
   "name": "python3"
  },
  "language_info": {
   "codemirror_mode": {
    "name": "ipython",
    "version": 3
   },
   "file_extension": ".py",
   "mimetype": "text/x-python",
   "name": "python",
   "nbconvert_exporter": "python",
   "pygments_lexer": "ipython3",
   "version": "3.7.1"
  }
 },
 "nbformat": 4,
 "nbformat_minor": 2
}
